{
 "cells": [
  {
   "cell_type": "code",
   "execution_count": 1,
   "id": "676126b5-744a-4645-a146-d68eb278b4a2",
   "metadata": {},
   "outputs": [],
   "source": [
    "import requests\n",
    "from bs4 import BeautifulSoup"
   ]
  },
  {
   "cell_type": "code",
   "execution_count": 2,
   "id": "2e63bf02-31ea-4115-90f8-c4e7dbb1b57e",
   "metadata": {},
   "outputs": [],
   "source": [
    "response = requests.get(\"https://www.talouselama.fi/\")\n",
    "doc = BeautifulSoup(response.text)"
   ]
  },
  {
   "cell_type": "code",
   "execution_count": 3,
   "id": "d4e6fa68-d75d-4379-b717-41ed8a6c4ead",
   "metadata": {},
   "outputs": [
    {
     "data": {
      "text/plain": [
       "0"
      ]
     },
     "execution_count": 3,
     "metadata": {},
     "output_type": "execute_result"
    }
   ],
   "source": [
    "# What is the selector for the headlines WITH THE LINKS?\n",
    "# Works from right to left\n",
    "# a meana <a> tag\n",
    "# .c_t means something with the class \"c_t\"\n",
    "# (space) means \"inside of\"\n",
    "# so this means links inside of the class c_t\n",
    "links = doc.select(\".c_t a\")\n",
    "len(links)"
   ]
  },
  {
   "cell_type": "code",
   "execution_count": 4,
   "id": "46a96755-81ac-468b-bfbd-7f1fa270eb6e",
   "metadata": {},
   "outputs": [],
   "source": [
    "# We love a good CSV file\n",
    "# we probably want one with a HEADLINE column\n",
    "# and also a URL column\n",
    "\n",
    "# to make a CSV we need a LIST of DICTIONARIES\n",
    "for link in links:\n",
    "    print(\"----\")\n",
    "    # Print out the text\n",
    "    print(link.text)\n",
    "    # Print out the URL it points to\n",
    "    # <a href=\"blahblah.html\" title=\"...\">\n",
    "    # <img src=\"....\">    \n",
    "    print(link['href'])"
   ]
  },
  {
   "cell_type": "code",
   "execution_count": 9,
   "id": "73ccd9c9-b4e1-4bcd-9f69-a36501b501fc",
   "metadata": {},
   "outputs": [
    {
     "data": {
      "text/plain": [
       "[]"
      ]
     },
     "execution_count": 9,
     "metadata": {},
     "output_type": "execute_result"
    }
   ],
   "source": [
    "# We love a good CSV file\n",
    "# we probably want one with a HEADLINE column\n",
    "# and also a URL column\n",
    "\n",
    "# to make a CSV we need a LIST of DICTIONARIES\n",
    "# YOUR MISSION:\n",
    "# 1. Make an empty list called all_data\n",
    "# 2. Add our data dictionary to it each time we loop\n",
    "# 3. Look at the list\n",
    "all_data = []\n",
    "for link in links:\n",
    "    # print(\"----\")\n",
    "    data = {\n",
    "        'headline': link.text,\n",
    "        'url': link['href']\n",
    "    }\n",
    "    # print(data)\n",
    "    all_data.append(data)\n",
    "all_data"
   ]
  },
  {
   "cell_type": "code",
   "execution_count": 6,
   "id": "e97b72c1-17af-4f69-9cc5-086736eb9871",
   "metadata": {},
   "outputs": [
    {
     "data": {
      "text/html": [
       "<div>\n",
       "<style scoped>\n",
       "    .dataframe tbody tr th:only-of-type {\n",
       "        vertical-align: middle;\n",
       "    }\n",
       "\n",
       "    .dataframe tbody tr th {\n",
       "        vertical-align: top;\n",
       "    }\n",
       "\n",
       "    .dataframe thead th {\n",
       "        text-align: right;\n",
       "    }\n",
       "</style>\n",
       "<table border=\"1\" class=\"dataframe\">\n",
       "  <thead>\n",
       "    <tr style=\"text-align: right;\">\n",
       "      <th></th>\n",
       "    </tr>\n",
       "  </thead>\n",
       "  <tbody>\n",
       "  </tbody>\n",
       "</table>\n",
       "</div>"
      ],
      "text/plain": [
       "Empty DataFrame\n",
       "Columns: []\n",
       "Index: []"
      ]
     },
     "execution_count": 6,
     "metadata": {},
     "output_type": "execute_result"
    }
   ],
   "source": [
    "import pandas as pd\n",
    "\n",
    "# Just feed the list of dictionaries to pandas\n",
    "# and it makes us a nice beautiful dataframe\n",
    "df = pd.DataFrame(all_data)\n",
    "df.head()"
   ]
  },
  {
   "cell_type": "code",
   "execution_count": 10,
   "id": "c4e42f04-ee16-441e-807b-0ba805697597",
   "metadata": {},
   "outputs": [],
   "source": [
    "df.to_csv(\"headlines.csv\", index=False)"
   ]
  },
  {
   "cell_type": "code",
   "execution_count": 11,
   "id": "423da71f-6174-45bb-9fef-b6c10aa3614b",
   "metadata": {},
   "outputs": [],
   "source": [
    "# pd.read_csv(\"headlines.csv\")"
   ]
  },
  {
   "cell_type": "code",
   "execution_count": null,
   "id": "cbd5f7af-7cba-4cfe-a5a3-bd083e6a9f88",
   "metadata": {},
   "outputs": [],
   "source": []
  }
 ],
 "metadata": {
  "kernelspec": {
   "display_name": "Python 3 (ipykernel)",
   "language": "python",
   "name": "python3"
  },
  "language_info": {
   "codemirror_mode": {
    "name": "ipython",
    "version": 3
   },
   "file_extension": ".py",
   "mimetype": "text/x-python",
   "name": "python",
   "nbconvert_exporter": "python",
   "pygments_lexer": "ipython3",
   "version": "3.11.8"
  }
 },
 "nbformat": 4,
 "nbformat_minor": 5
}
